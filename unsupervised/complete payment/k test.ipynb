{
 "cells": [
  {
   "cell_type": "markdown",
   "id": "0e02a82f",
   "metadata": {},
   "source": [
    "https://www.youtube.com/watch?v=iNlZ3IU5Ffw"
   ]
  },
  {
   "cell_type": "code",
   "execution_count": 1,
   "id": "0f8d3245",
   "metadata": {},
   "outputs": [],
   "source": [
    "import pandas as pd\n",
    "import matplotlib.pyplot as plt\n",
    "from sklearn.preprocessing import StandardScaler\n",
    "from sklearn.cluster import KMeans"
   ]
  },
  {
   "cell_type": "code",
   "execution_count": 2,
   "id": "4d92fdf3",
   "metadata": {},
   "outputs": [
    {
     "data": {
      "text/html": [
       "<div>\n",
       "<style scoped>\n",
       "    .dataframe tbody tr th:only-of-type {\n",
       "        vertical-align: middle;\n",
       "    }\n",
       "\n",
       "    .dataframe tbody tr th {\n",
       "        vertical-align: top;\n",
       "    }\n",
       "\n",
       "    .dataframe thead th {\n",
       "        text-align: right;\n",
       "    }\n",
       "</style>\n",
       "<table border=\"1\" class=\"dataframe\">\n",
       "  <thead>\n",
       "    <tr style=\"text-align: right;\">\n",
       "      <th></th>\n",
       "      <th>y</th>\n",
       "      <th>new_t</th>\n",
       "      <th>payment</th>\n",
       "      <th>AlphaMax</th>\n",
       "    </tr>\n",
       "  </thead>\n",
       "  <tbody>\n",
       "    <tr>\n",
       "      <th>0</th>\n",
       "      <td>1</td>\n",
       "      <td>0</td>\n",
       "      <td>5</td>\n",
       "      <td>1</td>\n",
       "    </tr>\n",
       "    <tr>\n",
       "      <th>1</th>\n",
       "      <td>1</td>\n",
       "      <td>0</td>\n",
       "      <td>6</td>\n",
       "      <td>1</td>\n",
       "    </tr>\n",
       "    <tr>\n",
       "      <th>2</th>\n",
       "      <td>1</td>\n",
       "      <td>0</td>\n",
       "      <td>7</td>\n",
       "      <td>1</td>\n",
       "    </tr>\n",
       "    <tr>\n",
       "      <th>3</th>\n",
       "      <td>1</td>\n",
       "      <td>0</td>\n",
       "      <td>8</td>\n",
       "      <td>1</td>\n",
       "    </tr>\n",
       "    <tr>\n",
       "      <th>4</th>\n",
       "      <td>1</td>\n",
       "      <td>0</td>\n",
       "      <td>3</td>\n",
       "      <td>2</td>\n",
       "    </tr>\n",
       "  </tbody>\n",
       "</table>\n",
       "</div>"
      ],
      "text/plain": [
       "   y  new_t  payment  AlphaMax\n",
       "0  1      0        5         1\n",
       "1  1      0        6         1\n",
       "2  1      0        7         1\n",
       "3  1      0        8         1\n",
       "4  1      0        3         2"
      ]
     },
     "execution_count": 2,
     "metadata": {},
     "output_type": "execute_result"
    }
   ],
   "source": [
    "df = pd.read_csv(\"university_records - Copy.csv\")\n",
    "\n",
    "df = df.drop(columns=['newMark'])\n",
    "\n",
    "df.head()"
   ]
  },
  {
   "cell_type": "code",
   "execution_count": 3,
   "id": "76e0ccf9",
   "metadata": {},
   "outputs": [
    {
     "data": {
      "text/html": [
       "<div>\n",
       "<style scoped>\n",
       "    .dataframe tbody tr th:only-of-type {\n",
       "        vertical-align: middle;\n",
       "    }\n",
       "\n",
       "    .dataframe tbody tr th {\n",
       "        vertical-align: top;\n",
       "    }\n",
       "\n",
       "    .dataframe thead th {\n",
       "        text-align: right;\n",
       "    }\n",
       "</style>\n",
       "<table border=\"1\" class=\"dataframe\">\n",
       "  <thead>\n",
       "    <tr style=\"text-align: right;\">\n",
       "      <th></th>\n",
       "      <th>y</th>\n",
       "      <th>new_t</th>\n",
       "      <th>payment</th>\n",
       "      <th>AlphaMax</th>\n",
       "    </tr>\n",
       "  </thead>\n",
       "  <tbody>\n",
       "    <tr>\n",
       "      <th>count</th>\n",
       "      <td>91.0</td>\n",
       "      <td>91.000000</td>\n",
       "      <td>91.000000</td>\n",
       "      <td>91.000000</td>\n",
       "    </tr>\n",
       "    <tr>\n",
       "      <th>mean</th>\n",
       "      <td>1.0</td>\n",
       "      <td>2.274725</td>\n",
       "      <td>3.450549</td>\n",
       "      <td>3.219780</td>\n",
       "    </tr>\n",
       "    <tr>\n",
       "      <th>std</th>\n",
       "      <td>0.0</td>\n",
       "      <td>1.844306</td>\n",
       "      <td>1.634787</td>\n",
       "      <td>1.323314</td>\n",
       "    </tr>\n",
       "    <tr>\n",
       "      <th>min</th>\n",
       "      <td>1.0</td>\n",
       "      <td>0.000000</td>\n",
       "      <td>1.000000</td>\n",
       "      <td>1.000000</td>\n",
       "    </tr>\n",
       "    <tr>\n",
       "      <th>25%</th>\n",
       "      <td>1.0</td>\n",
       "      <td>1.000000</td>\n",
       "      <td>2.000000</td>\n",
       "      <td>2.000000</td>\n",
       "    </tr>\n",
       "    <tr>\n",
       "      <th>50%</th>\n",
       "      <td>1.0</td>\n",
       "      <td>2.000000</td>\n",
       "      <td>3.000000</td>\n",
       "      <td>3.000000</td>\n",
       "    </tr>\n",
       "    <tr>\n",
       "      <th>75%</th>\n",
       "      <td>1.0</td>\n",
       "      <td>4.000000</td>\n",
       "      <td>4.500000</td>\n",
       "      <td>4.000000</td>\n",
       "    </tr>\n",
       "    <tr>\n",
       "      <th>max</th>\n",
       "      <td>1.0</td>\n",
       "      <td>7.000000</td>\n",
       "      <td>8.000000</td>\n",
       "      <td>5.000000</td>\n",
       "    </tr>\n",
       "  </tbody>\n",
       "</table>\n",
       "</div>"
      ],
      "text/plain": [
       "          y      new_t    payment   AlphaMax\n",
       "count  91.0  91.000000  91.000000  91.000000\n",
       "mean    1.0   2.274725   3.450549   3.219780\n",
       "std     0.0   1.844306   1.634787   1.323314\n",
       "min     1.0   0.000000   1.000000   1.000000\n",
       "25%     1.0   1.000000   2.000000   2.000000\n",
       "50%     1.0   2.000000   3.000000   3.000000\n",
       "75%     1.0   4.000000   4.500000   4.000000\n",
       "max     1.0   7.000000   8.000000   5.000000"
      ]
     },
     "execution_count": 3,
     "metadata": {},
     "output_type": "execute_result"
    }
   ],
   "source": [
    "df.describe()"
   ]
  },
  {
   "cell_type": "code",
   "execution_count": 4,
   "id": "97d274a1",
   "metadata": {},
   "outputs": [],
   "source": [
    "scaler = StandardScaler()"
   ]
  },
  {
   "cell_type": "code",
   "execution_count": 5,
   "id": "c2db108d",
   "metadata": {},
   "outputs": [],
   "source": [
    "df[['y_T', 'AlphaMax_T', 'new_t_T', 'payment_T']] = scaler.fit_transform(df[['y', 'AlphaMax', 'new_t', 'payment']])"
   ]
  },
  {
   "cell_type": "code",
   "execution_count": 6,
   "id": "744f36c1",
   "metadata": {},
   "outputs": [
    {
     "data": {
      "text/html": [
       "<div>\n",
       "<style scoped>\n",
       "    .dataframe tbody tr th:only-of-type {\n",
       "        vertical-align: middle;\n",
       "    }\n",
       "\n",
       "    .dataframe tbody tr th {\n",
       "        vertical-align: top;\n",
       "    }\n",
       "\n",
       "    .dataframe thead th {\n",
       "        text-align: right;\n",
       "    }\n",
       "</style>\n",
       "<table border=\"1\" class=\"dataframe\">\n",
       "  <thead>\n",
       "    <tr style=\"text-align: right;\">\n",
       "      <th></th>\n",
       "      <th>y</th>\n",
       "      <th>new_t</th>\n",
       "      <th>payment</th>\n",
       "      <th>AlphaMax</th>\n",
       "      <th>y_T</th>\n",
       "      <th>AlphaMax_T</th>\n",
       "      <th>new_t_T</th>\n",
       "      <th>payment_T</th>\n",
       "    </tr>\n",
       "  </thead>\n",
       "  <tbody>\n",
       "    <tr>\n",
       "      <th>0</th>\n",
       "      <td>1</td>\n",
       "      <td>0</td>\n",
       "      <td>5</td>\n",
       "      <td>1</td>\n",
       "      <td>0.0</td>\n",
       "      <td>-1.686734</td>\n",
       "      <td>-1.240210</td>\n",
       "      <td>0.953051</td>\n",
       "    </tr>\n",
       "    <tr>\n",
       "      <th>1</th>\n",
       "      <td>1</td>\n",
       "      <td>0</td>\n",
       "      <td>6</td>\n",
       "      <td>1</td>\n",
       "      <td>0.0</td>\n",
       "      <td>-1.686734</td>\n",
       "      <td>-1.240210</td>\n",
       "      <td>1.568140</td>\n",
       "    </tr>\n",
       "    <tr>\n",
       "      <th>2</th>\n",
       "      <td>1</td>\n",
       "      <td>0</td>\n",
       "      <td>7</td>\n",
       "      <td>1</td>\n",
       "      <td>0.0</td>\n",
       "      <td>-1.686734</td>\n",
       "      <td>-1.240210</td>\n",
       "      <td>2.183230</td>\n",
       "    </tr>\n",
       "    <tr>\n",
       "      <th>3</th>\n",
       "      <td>1</td>\n",
       "      <td>0</td>\n",
       "      <td>8</td>\n",
       "      <td>1</td>\n",
       "      <td>0.0</td>\n",
       "      <td>-1.686734</td>\n",
       "      <td>-1.240210</td>\n",
       "      <td>2.798320</td>\n",
       "    </tr>\n",
       "    <tr>\n",
       "      <th>4</th>\n",
       "      <td>1</td>\n",
       "      <td>0</td>\n",
       "      <td>3</td>\n",
       "      <td>2</td>\n",
       "      <td>0.0</td>\n",
       "      <td>-0.926868</td>\n",
       "      <td>-1.240210</td>\n",
       "      <td>-0.277128</td>\n",
       "    </tr>\n",
       "    <tr>\n",
       "      <th>...</th>\n",
       "      <td>...</td>\n",
       "      <td>...</td>\n",
       "      <td>...</td>\n",
       "      <td>...</td>\n",
       "      <td>...</td>\n",
       "      <td>...</td>\n",
       "      <td>...</td>\n",
       "      <td>...</td>\n",
       "    </tr>\n",
       "    <tr>\n",
       "      <th>86</th>\n",
       "      <td>1</td>\n",
       "      <td>6</td>\n",
       "      <td>2</td>\n",
       "      <td>3</td>\n",
       "      <td>0.0</td>\n",
       "      <td>-0.167003</td>\n",
       "      <td>2.031069</td>\n",
       "      <td>-0.892218</td>\n",
       "    </tr>\n",
       "    <tr>\n",
       "      <th>87</th>\n",
       "      <td>1</td>\n",
       "      <td>6</td>\n",
       "      <td>2</td>\n",
       "      <td>4</td>\n",
       "      <td>0.0</td>\n",
       "      <td>0.592862</td>\n",
       "      <td>2.031069</td>\n",
       "      <td>-0.892218</td>\n",
       "    </tr>\n",
       "    <tr>\n",
       "      <th>88</th>\n",
       "      <td>1</td>\n",
       "      <td>6</td>\n",
       "      <td>1</td>\n",
       "      <td>5</td>\n",
       "      <td>0.0</td>\n",
       "      <td>1.352727</td>\n",
       "      <td>2.031069</td>\n",
       "      <td>-1.507307</td>\n",
       "    </tr>\n",
       "    <tr>\n",
       "      <th>89</th>\n",
       "      <td>1</td>\n",
       "      <td>6</td>\n",
       "      <td>2</td>\n",
       "      <td>5</td>\n",
       "      <td>0.0</td>\n",
       "      <td>1.352727</td>\n",
       "      <td>2.031069</td>\n",
       "      <td>-0.892218</td>\n",
       "    </tr>\n",
       "    <tr>\n",
       "      <th>90</th>\n",
       "      <td>1</td>\n",
       "      <td>7</td>\n",
       "      <td>1</td>\n",
       "      <td>5</td>\n",
       "      <td>0.0</td>\n",
       "      <td>1.352727</td>\n",
       "      <td>2.576283</td>\n",
       "      <td>-1.507307</td>\n",
       "    </tr>\n",
       "  </tbody>\n",
       "</table>\n",
       "<p>91 rows × 8 columns</p>\n",
       "</div>"
      ],
      "text/plain": [
       "    y  new_t  payment  AlphaMax  y_T  AlphaMax_T   new_t_T  payment_T\n",
       "0   1      0        5         1  0.0   -1.686734 -1.240210   0.953051\n",
       "1   1      0        6         1  0.0   -1.686734 -1.240210   1.568140\n",
       "2   1      0        7         1  0.0   -1.686734 -1.240210   2.183230\n",
       "3   1      0        8         1  0.0   -1.686734 -1.240210   2.798320\n",
       "4   1      0        3         2  0.0   -0.926868 -1.240210  -0.277128\n",
       ".. ..    ...      ...       ...  ...         ...       ...        ...\n",
       "86  1      6        2         3  0.0   -0.167003  2.031069  -0.892218\n",
       "87  1      6        2         4  0.0    0.592862  2.031069  -0.892218\n",
       "88  1      6        1         5  0.0    1.352727  2.031069  -1.507307\n",
       "89  1      6        2         5  0.0    1.352727  2.031069  -0.892218\n",
       "90  1      7        1         5  0.0    1.352727  2.576283  -1.507307\n",
       "\n",
       "[91 rows x 8 columns]"
      ]
     },
     "execution_count": 6,
     "metadata": {},
     "output_type": "execute_result"
    }
   ],
   "source": [
    "df"
   ]
  },
  {
   "cell_type": "code",
   "execution_count": 7,
   "id": "65287477",
   "metadata": {},
   "outputs": [],
   "source": [
    "def optimise_k_means(data, max_k):\n",
    "    means = []\n",
    "    inertias = []\n",
    "    \n",
    "    for k in range(1 , max_k):\n",
    "        kmeans = KMeans(n_clusters=k)\n",
    "        kmeans.fit(data)\n",
    "        means.append(k)\n",
    "        inertias.append(kmeans.inertia_)\n",
    "        \n",
    "    fig = plt.subplots(figsize=(5, 5))\n",
    "    plt.plot(means, inertias, 'o-')\n",
    "    plt.xlabel('number of clusters')\n",
    "    plt.ylabel('inertia')\n",
    "    plt.grid(True)\n",
    "    plt.show()\n",
    "                "
   ]
  },
  {
   "cell_type": "code",
   "execution_count": 8,
   "id": "3c1dbaa1",
   "metadata": {},
   "outputs": [
    {
     "name": "stderr",
     "output_type": "stream",
     "text": [
      "D:\\ProgramData\\Anaconda3\\lib\\site-packages\\sklearn\\cluster\\_kmeans.py:1036: UserWarning: KMeans is known to have a memory leak on Windows with MKL, when there are less chunks than available threads. You can avoid it by setting the environment variable OMP_NUM_THREADS=1.\n",
      "  warnings.warn(\n"
     ]
    },
    {
     "data": {
      "image/png": "[encoded data removed]",
      "text/plain": [
       "<Figure size 500x500 with 1 Axes>"
      ]
     },
     "metadata": {},
     "output_type": "display_data"
    }
   ],
   "source": [
    "optimise_k_means(df[['y_T', 'AlphaMax_T', 'new_t_T', 'payment_T']], 11)"
   ]
  },
  {
   "cell_type": "code",
   "execution_count": 9,
   "id": "77efd8fc",
   "metadata": {},
   "outputs": [],
   "source": [
    "kmeans = KMeans(n_clusters = 4)"
   ]
  },
  {
   "cell_type": "code",
   "execution_count": 10,
   "id": "7e2807c2",
   "metadata": {},
   "outputs": [
    {
     "data": {
      "text/plain": [
       "KMeans(n_clusters=4)"
      ]
     },
     "execution_count": 10,
     "metadata": {},
     "output_type": "execute_result"
    }
   ],
   "source": [
    "kmeans.fit(df[['y_T', 'AlphaMax_T', 'new_t_T', 'payment_T']])"
   ]
  },
  {
   "cell_type": "code",
   "execution_count": 11,
   "id": "5b760606",
   "metadata": {},
   "outputs": [],
   "source": [
    "df['kmeans_4'] = kmeans.labels_"
   ]
  },
  {
   "cell_type": "code",
   "execution_count": 12,
   "id": "c581a898",
   "metadata": {},
   "outputs": [
    {
     "data": {
      "text/html": [
       "<div>\n",
       "<style scoped>\n",
       "    .dataframe tbody tr th:only-of-type {\n",
       "        vertical-align: middle;\n",
       "    }\n",
       "\n",
       "    .dataframe tbody tr th {\n",
       "        vertical-align: top;\n",
       "    }\n",
       "\n",
       "    .dataframe thead th {\n",
       "        text-align: right;\n",
       "    }\n",
       "</style>\n",
       "<table border=\"1\" class=\"dataframe\">\n",
       "  <thead>\n",
       "    <tr style=\"text-align: right;\">\n",
       "      <th></th>\n",
       "      <th>y</th>\n",
       "      <th>new_t</th>\n",
       "      <th>payment</th>\n",
       "      <th>AlphaMax</th>\n",
       "      <th>y_T</th>\n",
       "      <th>AlphaMax_T</th>\n",
       "      <th>new_t_T</th>\n",
       "      <th>payment_T</th>\n",
       "      <th>kmeans_4</th>\n",
       "    </tr>\n",
       "  </thead>\n",
       "  <tbody>\n",
       "    <tr>\n",
       "      <th>0</th>\n",
       "      <td>1</td>\n",
       "      <td>0</td>\n",
       "      <td>5</td>\n",
       "      <td>1</td>\n",
       "      <td>0.0</td>\n",
       "      <td>-1.686734</td>\n",
       "      <td>-1.240210</td>\n",
       "      <td>0.953051</td>\n",
       "      <td>2</td>\n",
       "    </tr>\n",
       "    <tr>\n",
       "      <th>1</th>\n",
       "      <td>1</td>\n",
       "      <td>0</td>\n",
       "      <td>6</td>\n",
       "      <td>1</td>\n",
       "      <td>0.0</td>\n",
       "      <td>-1.686734</td>\n",
       "      <td>-1.240210</td>\n",
       "      <td>1.568140</td>\n",
       "      <td>2</td>\n",
       "    </tr>\n",
       "    <tr>\n",
       "      <th>2</th>\n",
       "      <td>1</td>\n",
       "      <td>0</td>\n",
       "      <td>7</td>\n",
       "      <td>1</td>\n",
       "      <td>0.0</td>\n",
       "      <td>-1.686734</td>\n",
       "      <td>-1.240210</td>\n",
       "      <td>2.183230</td>\n",
       "      <td>2</td>\n",
       "    </tr>\n",
       "    <tr>\n",
       "      <th>3</th>\n",
       "      <td>1</td>\n",
       "      <td>0</td>\n",
       "      <td>8</td>\n",
       "      <td>1</td>\n",
       "      <td>0.0</td>\n",
       "      <td>-1.686734</td>\n",
       "      <td>-1.240210</td>\n",
       "      <td>2.798320</td>\n",
       "      <td>2</td>\n",
       "    </tr>\n",
       "    <tr>\n",
       "      <th>4</th>\n",
       "      <td>1</td>\n",
       "      <td>0</td>\n",
       "      <td>3</td>\n",
       "      <td>2</td>\n",
       "      <td>0.0</td>\n",
       "      <td>-0.926868</td>\n",
       "      <td>-1.240210</td>\n",
       "      <td>-0.277128</td>\n",
       "      <td>3</td>\n",
       "    </tr>\n",
       "    <tr>\n",
       "      <th>...</th>\n",
       "      <td>...</td>\n",
       "      <td>...</td>\n",
       "      <td>...</td>\n",
       "      <td>...</td>\n",
       "      <td>...</td>\n",
       "      <td>...</td>\n",
       "      <td>...</td>\n",
       "      <td>...</td>\n",
       "      <td>...</td>\n",
       "    </tr>\n",
       "    <tr>\n",
       "      <th>86</th>\n",
       "      <td>1</td>\n",
       "      <td>6</td>\n",
       "      <td>2</td>\n",
       "      <td>3</td>\n",
       "      <td>0.0</td>\n",
       "      <td>-0.167003</td>\n",
       "      <td>2.031069</td>\n",
       "      <td>-0.892218</td>\n",
       "      <td>1</td>\n",
       "    </tr>\n",
       "    <tr>\n",
       "      <th>87</th>\n",
       "      <td>1</td>\n",
       "      <td>6</td>\n",
       "      <td>2</td>\n",
       "      <td>4</td>\n",
       "      <td>0.0</td>\n",
       "      <td>0.592862</td>\n",
       "      <td>2.031069</td>\n",
       "      <td>-0.892218</td>\n",
       "      <td>1</td>\n",
       "    </tr>\n",
       "    <tr>\n",
       "      <th>88</th>\n",
       "      <td>1</td>\n",
       "      <td>6</td>\n",
       "      <td>1</td>\n",
       "      <td>5</td>\n",
       "      <td>0.0</td>\n",
       "      <td>1.352727</td>\n",
       "      <td>2.031069</td>\n",
       "      <td>-1.507307</td>\n",
       "      <td>1</td>\n",
       "    </tr>\n",
       "    <tr>\n",
       "      <th>89</th>\n",
       "      <td>1</td>\n",
       "      <td>6</td>\n",
       "      <td>2</td>\n",
       "      <td>5</td>\n",
       "      <td>0.0</td>\n",
       "      <td>1.352727</td>\n",
       "      <td>2.031069</td>\n",
       "      <td>-0.892218</td>\n",
       "      <td>1</td>\n",
       "    </tr>\n",
       "    <tr>\n",
       "      <th>90</th>\n",
       "      <td>1</td>\n",
       "      <td>7</td>\n",
       "      <td>1</td>\n",
       "      <td>5</td>\n",
       "      <td>0.0</td>\n",
       "      <td>1.352727</td>\n",
       "      <td>2.576283</td>\n",
       "      <td>-1.507307</td>\n",
       "      <td>1</td>\n",
       "    </tr>\n",
       "  </tbody>\n",
       "</table>\n",
       "<p>91 rows × 9 columns</p>\n",
       "</div>"
      ],
      "text/plain": [
       "    y  new_t  payment  AlphaMax  y_T  AlphaMax_T   new_t_T  payment_T  \\\n",
       "0   1      0        5         1  0.0   -1.686734 -1.240210   0.953051   \n",
       "1   1      0        6         1  0.0   -1.686734 -1.240210   1.568140   \n",
       "2   1      0        7         1  0.0   -1.686734 -1.240210   2.183230   \n",
       "3   1      0        8         1  0.0   -1.686734 -1.240210   2.798320   \n",
       "4   1      0        3         2  0.0   -0.926868 -1.240210  -0.277128   \n",
       ".. ..    ...      ...       ...  ...         ...       ...        ...   \n",
       "86  1      6        2         3  0.0   -0.167003  2.031069  -0.892218   \n",
       "87  1      6        2         4  0.0    0.592862  2.031069  -0.892218   \n",
       "88  1      6        1         5  0.0    1.352727  2.031069  -1.507307   \n",
       "89  1      6        2         5  0.0    1.352727  2.031069  -0.892218   \n",
       "90  1      7        1         5  0.0    1.352727  2.576283  -1.507307   \n",
       "\n",
       "    kmeans_4  \n",
       "0          2  \n",
       "1          2  \n",
       "2          2  \n",
       "3          2  \n",
       "4          3  \n",
       "..       ...  \n",
       "86         1  \n",
       "87         1  \n",
       "88         1  \n",
       "89         1  \n",
       "90         1  \n",
       "\n",
       "[91 rows x 9 columns]"
      ]
     },
     "execution_count": 12,
     "metadata": {},
     "output_type": "execute_result"
    }
   ],
   "source": [
    "df"
   ]
  },
  {
   "cell_type": "code",
   "execution_count": 13,
   "id": "fcdb6280",
   "metadata": {},
   "outputs": [
    {
     "data": {
      "image/png": "[encoded data removed]",
      "text/plain": [
       "<Figure size 640x480 with 1 Axes>"
      ]
     },
     "metadata": {},
     "output_type": "display_data"
    },
    {
     "name": "stdout",
     "output_type": "stream",
     "text": [
      "[[1.         2.73913043 3.13043478 3.52173913]\n",
      " [1.         4.5        4.65       2.        ]\n",
      " [1.         1.63636364 0.86363636 5.68181818]\n",
      " [1.         4.         0.88461538 2.61538462]]\n"
     ]
    }
   ],
   "source": [
    "plt.scatter(x=df['AlphaMax_T'], y=df['new_t_T'],  c=df['kmeans_4'])\n",
    "\n",
    "\n",
    "plt.show()\n",
    "inversed = scaler.inverse_transform(kmeans.cluster_centers_)\n",
    "print(inversed)\n"
   ]
  },
  {
   "cell_type": "code",
   "execution_count": 25,
   "id": "57de13e6",
   "metadata": {},
   "outputs": [
    {
     "name": "stderr",
     "output_type": "stream",
     "text": [
      "D:\\ProgramData\\Anaconda3\\lib\\site-packages\\sklearn\\base.py:450: UserWarning: X does not have valid feature names, but StandardScaler was fitted with feature names\n",
      "  warnings.warn(\n",
      "D:\\ProgramData\\Anaconda3\\lib\\site-packages\\sklearn\\base.py:450: UserWarning: X does not have valid feature names, but KMeans was fitted with feature names\n",
      "  warnings.warn(\n"
     ]
    },
    {
     "data": {
      "text/plain": [
       "array([3])"
      ]
     },
     "execution_count": 25,
     "metadata": {},
     "output_type": "execute_result"
    }
   ],
   "source": [
    "kmeans.predict(scaler.transform([[1 , 4 , 0 , 2]]))"
   ]
  },
  {
   "cell_type": "code",
   "execution_count": 62,
   "id": "17a7ff56",
   "metadata": {},
   "outputs": [],
   "source": [
    "import numpy as np\n",
    "\n",
    "def test(a,b):\n",
    "    return np.linalg.norm(np.array(a)-np.array(b))"
   ]
  },
  {
   "cell_type": "code",
   "execution_count": 63,
   "id": "e1cdc7b0",
   "metadata": {},
   "outputs": [],
   "source": [
    "a = [0.58 , 5 , 4 , 2]"
   ]
  },
  {
   "cell_type": "code",
   "execution_count": 64,
   "id": "4367876b",
   "metadata": {},
   "outputs": [
    {
     "data": {
      "text/plain": [
       "2.5705221862530006"
      ]
     },
     "execution_count": 64,
     "metadata": {},
     "output_type": "execute_result"
    }
   ],
   "source": [
    "test(a,scaler.inverse_transform(kmeans.cluster_centers_)[0] ) "
   ]
  },
  {
   "cell_type": "code",
   "execution_count": 65,
   "id": "5d4e6f52",
   "metadata": {},
   "outputs": [
    {
     "data": {
      "text/plain": [
       "3.3283147128805766"
      ]
     },
     "execution_count": 65,
     "metadata": {},
     "output_type": "execute_result"
    }
   ],
   "source": [
    "test(a,scaler.inverse_transform(kmeans.cluster_centers_)[1] ) "
   ]
  },
  {
   "cell_type": "code",
   "execution_count": 66,
   "id": "6757d633",
   "metadata": {},
   "outputs": [
    {
     "data": {
      "text/plain": [
       "4.757639511475038"
      ]
     },
     "execution_count": 66,
     "metadata": {},
     "output_type": "execute_result"
    }
   ],
   "source": [
    "test(a,scaler.inverse_transform(kmeans.cluster_centers_)[2] ) "
   ]
  },
  {
   "cell_type": "code",
   "execution_count": 67,
   "id": "9915d2b3",
   "metadata": {},
   "outputs": [
    {
     "data": {
      "text/plain": [
       "5.503946821349648"
      ]
     },
     "execution_count": 67,
     "metadata": {},
     "output_type": "execute_result"
    }
   ],
   "source": [
    "test(a,scaler.inverse_transform(kmeans.cluster_centers_)[3] ) "
   ]
  },
  {
   "cell_type": "code",
   "execution_count": 68,
   "id": "e214d211",
   "metadata": {},
   "outputs": [
    {
     "data": {
      "text/plain": [
       "2.864381367470389"
      ]
     },
     "execution_count": 68,
     "metadata": {},
     "output_type": "execute_result"
    }
   ],
   "source": [
    "test(a,scaler.inverse_transform(kmeans.cluster_centers_)[4] ) "
   ]
  },
  {
   "cell_type": "code",
   "execution_count": 69,
   "id": "6430caea",
   "metadata": {},
   "outputs": [
    {
     "data": {
      "text/plain": [
       "1.0871107524840995"
      ]
     },
     "execution_count": 69,
     "metadata": {},
     "output_type": "execute_result"
    }
   ],
   "source": [
    "test(a,scaler.inverse_transform(kmeans.cluster_centers_)[5] ) "
   ]
  },
  {
   "cell_type": "code",
   "execution_count": null,
   "id": "21bcbed9",
   "metadata": {},
   "outputs": [],
   "source": []
  },
  {
   "cell_type": "code",
   "execution_count": 38,
   "id": "41f521d9",
   "metadata": {},
   "outputs": [
    {
     "data": {
      "text/plain": [
       "array([3, 3, 3, 3, 5, 5, 5, 4, 3, 3, 3, 5, 3, 3, 4, 4, 4, 4, 4, 4, 4, 4,\n",
       "       5, 5, 5, 5, 1, 1, 1, 5, 5, 5, 5, 1, 5, 1, 3, 3, 3, 3, 5, 5, 5, 5,\n",
       "       3, 3, 5, 3, 4, 4, 4, 4, 4, 4, 4, 4, 5, 5, 5, 5, 1, 1, 1, 5, 5, 5,\n",
       "       1, 1, 1, 1, 3, 3, 3, 3, 3, 5, 5, 3, 5, 3, 5, 5, 4, 4, 4, 4, 4, 4,\n",
       "       4, 1, 5, 5, 5, 5, 1, 1, 1, 5, 5, 5, 1, 1, 1, 1, 3, 3, 3, 3, 3, 3,\n",
       "       3, 1, 1, 3, 4, 4, 4, 4, 4, 1, 1, 1, 0, 0, 0, 1, 1, 1, 1, 0, 1, 1,\n",
       "       1, 1, 1, 1, 3, 3, 3, 3, 3, 3, 3, 3, 3, 3, 0, 3, 0, 0, 0, 0, 1, 1,\n",
       "       1, 1, 0, 0, 0, 0, 1, 1, 1, 0, 0, 2, 2, 2, 2, 1, 0, 2, 2, 2, 2, 2,\n",
       "       2, 2, 2, 2, 2, 0, 0, 0, 0, 0, 1, 1, 1, 0, 0, 0, 0, 2, 2, 2, 2, 0,\n",
       "       2, 2, 2, 2, 0, 2, 2, 2, 2, 2, 2, 2, 2, 2, 2, 0, 0, 0, 0, 0, 2, 2,\n",
       "       2, 0, 0, 0, 0, 2, 2, 2, 2, 2, 2, 2, 2, 2, 0, 2, 2, 2, 2, 2, 2, 2,\n",
       "       2, 2, 2, 0, 0, 0, 0, 0, 2, 2, 2, 2, 2, 2, 2, 2, 2, 0, 0, 0, 0, 2,\n",
       "       2, 2, 2, 2, 2, 2, 2, 2, 2])"
      ]
     },
     "execution_count": 38,
     "metadata": {},
     "output_type": "execute_result"
    }
   ],
   "source": [
    "kmeans.predict(df[['y_T', 'AlphaMax_T', 'new_t_T', 'payment_T']])"
   ]
  },
  {
   "cell_type": "code",
   "execution_count": 39,
   "id": "0944b2a7",
   "metadata": {},
   "outputs": [],
   "source": [
    "dict_tmp={}"
   ]
  },
  {
   "cell_type": "code",
   "execution_count": 50,
   "id": "75fae480",
   "metadata": {},
   "outputs": [
    {
     "data": {
      "text/plain": [
       "y             0.802703\n",
       "AlphaMax      4.486486\n",
       "new_t         4.270270\n",
       "payment       2.891892\n",
       "y_T           1.067936\n",
       "AlphaMax_T    0.588662\n",
       "new_t_T       0.909691\n",
       "payment_T     0.162644\n",
       "kmeans_6      5.000000\n",
       "dtype: float64"
      ]
     },
     "execution_count": 50,
     "metadata": {},
     "output_type": "execute_result"
    }
   ],
   "source": [
    "np.mean(df[df['kmeans_6']==5])"
   ]
  },
  {
   "cell_type": "code",
   "execution_count": 122,
   "id": "f3032cd9",
   "metadata": {},
   "outputs": [
    {
     "data": {
      "text/plain": [
       "y             0.079575\n",
       "AlphaMax      0.948957\n",
       "new_t         0.922611\n",
       "payment       0.739985\n",
       "y_T           0.327969\n",
       "AlphaMax_T    0.454130\n",
       "new_t_T       0.434129\n",
       "payment_T     0.459621\n",
       "kmeans_6      0.543123\n",
       "kmeans_10     0.000000\n",
       "dtype: float64"
      ]
     },
     "execution_count": 122,
     "metadata": {},
     "output_type": "execute_result"
    }
   ],
   "source": [
    "np.std(df[df['kmeans_10']==9])"
   ]
  },
  {
   "cell_type": "code",
   "execution_count": null,
   "id": "4dbbbb17",
   "metadata": {},
   "outputs": [],
   "source": []
  },
  {
   "cell_type": "code",
   "execution_count": null,
   "id": "9a7f53b2",
   "metadata": {},
   "outputs": [],
   "source": []
  },
  {
   "cell_type": "code",
   "execution_count": null,
   "id": "0cfd8dd4",
   "metadata": {},
   "outputs": [],
   "source": []
  },
  {
   "cell_type": "code",
   "execution_count": null,
   "id": "cde939f5",
   "metadata": {},
   "outputs": [],
   "source": []
  },
  {
   "cell_type": "code",
   "execution_count": null,
   "id": "ff38df8d",
   "metadata": {},
   "outputs": [],
   "source": []
  },
  {
   "cell_type": "code",
   "execution_count": null,
   "id": "62497e28",
   "metadata": {},
   "outputs": [],
   "source": []
  },
  {
   "cell_type": "code",
   "execution_count": null,
   "id": "7b9cdb3c",
   "metadata": {},
   "outputs": [],
   "source": [
    "for k in range(1 , 7):\n",
    "    kmeans=KMeans(n_clusters=k)\n",
    "    kmeans.fit(df[['y_T', 'AlphaMax_T', 'new_t_T', 'payment_T']])\n",
    "    df[f'KMeans_{k}'] = kmeans.labels_"
   ]
  },
  {
   "cell_type": "code",
   "execution_count": null,
   "id": "9266ce22",
   "metadata": {},
   "outputs": [],
   "source": [
    "df"
   ]
  },
  {
   "cell_type": "code",
   "execution_count": null,
   "id": "783a5966",
   "metadata": {},
   "outputs": [],
   "source": [
    "fig, axs = plt.subplots(nrows=1, ncols=6, figsize=(20,5))\n",
    "\n",
    "for i, ax in enumerate(fig.axes, start=1):\n",
    "    ax.scatter(x=df['y'], y=df['t'],   c=df[f'KMeans_{i}'])\n",
    "    ax.set_title(f'N Clusters: {i}')"
   ]
  },
  {
   "cell_type": "code",
   "execution_count": null,
   "id": "8bca6b85",
   "metadata": {},
   "outputs": [],
   "source": []
  }
 ],
 "metadata": {
  "kernelspec": {
   "display_name": "Python 3 (ipykernel)",
   "language": "python",
   "name": "python3"
  },
  "language_info": {
   "codemirror_mode": {
    "name": "ipython",
    "version": 3
   },
   "file_extension": ".py",
   "mimetype": "text/x-python",
   "name": "python",
   "nbconvert_exporter": "python",
   "pygments_lexer": "ipython3",
   "version": "3.9.13"
  }
 },
 "nbformat": 4,
 "nbformat_minor": 5
}
